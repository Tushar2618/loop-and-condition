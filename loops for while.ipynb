{
 "cells": [
  {
   "cell_type": "code",
   "execution_count": 1,
   "id": "ed78d341-f3c3-4a23-a66f-755ff04ad753",
   "metadata": {},
   "outputs": [],
   "source": [
    "d={}"
   ]
  },
  {
   "cell_type": "code",
   "execution_count": 2,
   "id": "8d599311-1789-4988-b513-e5c89ba209e7",
   "metadata": {},
   "outputs": [
    {
     "data": {
      "text/plain": [
       "dict"
      ]
     },
     "execution_count": 2,
     "metadata": {},
     "output_type": "execute_result"
    }
   ],
   "source": [
    "type(d)"
   ]
  },
  {
   "cell_type": "code",
   "execution_count": 3,
   "id": "907e2ce4-5d52-4668-aa58-ac49a5b65a37",
   "metadata": {},
   "outputs": [],
   "source": [
    "d1={'key':'tush'}"
   ]
  },
  {
   "cell_type": "code",
   "execution_count": 4,
   "id": "7c7772d5-785d-4a49-9f95-d9e55025cfa8",
   "metadata": {},
   "outputs": [
    {
     "data": {
      "text/plain": [
       "{'key': 'tush'}"
      ]
     },
     "execution_count": 4,
     "metadata": {},
     "output_type": "execute_result"
    }
   ],
   "source": [
    "d1"
   ]
  },
  {
   "cell_type": "code",
   "execution_count": 5,
   "id": "426cfc8d-2d36-43e3-b2e3-f9dff4508243",
   "metadata": {},
   "outputs": [],
   "source": [
    "d2={'name':'tushar','email':'tusharw2326@gmail','number':'3321'}"
   ]
  },
  {
   "cell_type": "code",
   "execution_count": 6,
   "id": "e88a4c6c-b71b-44cf-93c8-ac0f86e8211e",
   "metadata": {},
   "outputs": [
    {
     "data": {
      "text/plain": [
       "{'name': 'tushar', 'email': 'tusharw2326@gmail', 'number': '3321'}"
      ]
     },
     "execution_count": 6,
     "metadata": {},
     "output_type": "execute_result"
    }
   ],
   "source": [
    "d2"
   ]
  },
  {
   "cell_type": "code",
   "execution_count": 13,
   "id": "fa63803d-09fb-4d0e-ae74-1ba5e7f9042d",
   "metadata": {},
   "outputs": [],
   "source": [
    "d3={123:'tofi','@mail':'443',True:'223'}"
   ]
  },
  {
   "cell_type": "code",
   "execution_count": 14,
   "id": "8983a69f-0a67-4d90-a7b2-d589e4ee2ea3",
   "metadata": {},
   "outputs": [
    {
     "data": {
      "text/plain": [
       "{123: 'tofi', '@mail': '443', True: '223'}"
      ]
     },
     "execution_count": 14,
     "metadata": {},
     "output_type": "execute_result"
    }
   ],
   "source": [
    "d3"
   ]
  },
  {
   "cell_type": "code",
   "execution_count": 15,
   "id": "add0ac52-85a8-4d5c-927c-99dac4fa459a",
   "metadata": {},
   "outputs": [
    {
     "data": {
      "text/plain": [
       "'tofi'"
      ]
     },
     "execution_count": 15,
     "metadata": {},
     "output_type": "execute_result"
    }
   ],
   "source": [
    "d3[123]"
   ]
  },
  {
   "cell_type": "code",
   "execution_count": 16,
   "id": "fa273825-18b0-4906-a34e-41de8dc5853b",
   "metadata": {},
   "outputs": [
    {
     "data": {
      "text/plain": [
       "'223'"
      ]
     },
     "execution_count": 16,
     "metadata": {},
     "output_type": "execute_result"
    }
   ],
   "source": [
    "d3[True]"
   ]
  },
  {
   "cell_type": "code",
   "execution_count": 17,
   "id": "b9bfa380-945f-4811-a694-23cb6b696c4c",
   "metadata": {},
   "outputs": [
    {
     "data": {
      "text/plain": [
       "'223'"
      ]
     },
     "execution_count": 17,
     "metadata": {},
     "output_type": "execute_result"
    }
   ],
   "source": [
    "d3[1]"
   ]
  },
  {
   "cell_type": "code",
   "execution_count": 19,
   "id": "e2d57005-0329-45b9-9c65-5c10e19754ef",
   "metadata": {},
   "outputs": [
    {
     "data": {
      "text/plain": [
       "'443'"
      ]
     },
     "execution_count": 19,
     "metadata": {},
     "output_type": "execute_result"
    }
   ],
   "source": [
    "d3['@mail']"
   ]
  },
  {
   "cell_type": "code",
   "execution_count": 25,
   "id": "fbc11bb1-304f-43af-83db-2c55f40e0b4c",
   "metadata": {},
   "outputs": [],
   "source": [
    "d4={'name':'tudar','mail_id':'tush@gmail','name':'tushar'} ##key should  unic"
   ]
  },
  {
   "cell_type": "code",
   "execution_count": 26,
   "id": "00f5985c-f327-493a-abe0-6610e886d1ef",
   "metadata": {},
   "outputs": [
    {
     "data": {
      "text/plain": [
       "'tushar'"
      ]
     },
     "execution_count": 26,
     "metadata": {},
     "output_type": "execute_result"
    }
   ],
   "source": [
    "d4['name']"
   ]
  },
  {
   "cell_type": "code",
   "execution_count": 27,
   "id": "6f24ed22-e8a8-4f6b-8ca4-c2421fa7072a",
   "metadata": {},
   "outputs": [],
   "source": [
    "d5={'company':'pwskills','course':['data science','web devloper','software testing']}"
   ]
  },
  {
   "cell_type": "code",
   "execution_count": 28,
   "id": "13813457-8699-46ad-8933-ebf7d6be3423",
   "metadata": {},
   "outputs": [
    {
     "data": {
      "text/plain": [
       "{'company': 'pwskills',\n",
       " 'course': ['data science', 'web devloper', 'software testing']}"
      ]
     },
     "execution_count": 28,
     "metadata": {},
     "output_type": "execute_result"
    }
   ],
   "source": [
    "d5"
   ]
  },
  {
   "cell_type": "code",
   "execution_count": 30,
   "id": "5da00865-386f-45bc-81f9-ac113fec5b63",
   "metadata": {},
   "outputs": [
    {
     "data": {
      "text/plain": [
       "['data science', 'web devloper', 'software testing']"
      ]
     },
     "execution_count": 30,
     "metadata": {},
     "output_type": "execute_result"
    }
   ],
   "source": [
    "d5[\"course\"]"
   ]
  },
  {
   "cell_type": "code",
   "execution_count": 32,
   "id": "839d9792-88b3-416e-80f1-9ca8b2c4dd28",
   "metadata": {},
   "outputs": [
    {
     "data": {
      "text/plain": [
       "'software testing'"
      ]
     },
     "execution_count": 32,
     "metadata": {},
     "output_type": "execute_result"
    }
   ],
   "source": [
    "d5['course'][2]"
   ]
  },
  {
   "cell_type": "code",
   "execution_count": 41,
   "id": "c69ed9a2-193a-4fd5-b341-00ad81dc3395",
   "metadata": {},
   "outputs": [],
   "source": [
    "d6={'number':[2,3,34,43,23,12],'assignment':(1,2,3,4,5,6),'lanch_data':{28,12,14},'class_value':{'web dev':8,'data science':12,'java':7}}"
   ]
  },
  {
   "cell_type": "code",
   "execution_count": 42,
   "id": "493b553e-0430-4b3e-863c-abd6d97cac8d",
   "metadata": {},
   "outputs": [
    {
     "data": {
      "text/plain": [
       "{'number': [2, 3, 34, 43, 23, 12],\n",
       " 'assignment': (1, 2, 3, 4, 5, 6),\n",
       " 'lanch_data': {12, 14, 28},\n",
       " 'class_value': {'web dev': 8, 'data science': 12, 'java': 7}}"
      ]
     },
     "execution_count": 42,
     "metadata": {},
     "output_type": "execute_result"
    }
   ],
   "source": [
    "d6"
   ]
  },
  {
   "cell_type": "code",
   "execution_count": 44,
   "id": "863e39e4-ba9a-445e-8c95-9c0c98c86ce8",
   "metadata": {},
   "outputs": [
    {
     "data": {
      "text/plain": [
       "[2, 3, 34, 43, 23, 12]"
      ]
     },
     "execution_count": 44,
     "metadata": {},
     "output_type": "execute_result"
    }
   ],
   "source": [
    "d6['number']"
   ]
  },
  {
   "cell_type": "code",
   "execution_count": 45,
   "id": "cae4608c-8cb5-4cae-96cc-326806eaabb5",
   "metadata": {},
   "outputs": [
    {
     "data": {
      "text/plain": [
       "{'web dev': 8, 'data science': 12, 'java': 7}"
      ]
     },
     "execution_count": 45,
     "metadata": {},
     "output_type": "execute_result"
    }
   ],
   "source": [
    "d6['class_value']"
   ]
  },
  {
   "cell_type": "code",
   "execution_count": 48,
   "id": "41c63cf8-45b9-4b2b-8b85-4aa28aa28149",
   "metadata": {},
   "outputs": [
    {
     "data": {
      "text/plain": [
       "12"
      ]
     },
     "execution_count": 48,
     "metadata": {},
     "output_type": "execute_result"
    }
   ],
   "source": [
    "d6['class_value']['data science']"
   ]
  },
  {
   "cell_type": "code",
   "execution_count": 57,
   "id": "a55429f8-8322-4e22-aea5-74a7c9423d65",
   "metadata": {},
   "outputs": [],
   "source": [
    "d6['mentor']=['sudanshu','rohit','allanur']"
   ]
  },
  {
   "cell_type": "code",
   "execution_count": 58,
   "id": "de924c40-0702-470d-8237-14fbb7819387",
   "metadata": {},
   "outputs": [
    {
     "data": {
      "text/plain": [
       "{'number': [2, 3, 34, 43, 23, 12],\n",
       " 'assignment': (1, 2, 3, 4, 5, 6),\n",
       " 'lanch_data': {12, 14, 28},\n",
       " 'class_value': {'web dev': 8, 'data science': 12, 'java': 7},\n",
       " 'mentor': ['sudanshu', 'rohit', 'allanur']}"
      ]
     },
     "execution_count": 58,
     "metadata": {},
     "output_type": "execute_result"
    }
   ],
   "source": [
    "d6"
   ]
  },
  {
   "cell_type": "code",
   "execution_count": 63,
   "id": "a2fd888e-2d85-4565-8b77-4f0dfeaa74d7",
   "metadata": {},
   "outputs": [],
   "source": [
    "del d6['number']"
   ]
  },
  {
   "cell_type": "code",
   "execution_count": 64,
   "id": "48649c9e-e36b-4f30-848d-89b5a32aa2f2",
   "metadata": {},
   "outputs": [
    {
     "data": {
      "text/plain": [
       "{'assignment': (1, 2, 3, 4, 5, 6),\n",
       " 'lanch_data': {12, 14, 28},\n",
       " 'class_value': {'web dev': 8, 'data science': 12, 'java': 7},\n",
       " 'mentor': ['sudanshu', 'rohit', 'allanur']}"
      ]
     },
     "execution_count": 64,
     "metadata": {},
     "output_type": "execute_result"
    }
   ],
   "source": [
    "d6"
   ]
  },
  {
   "cell_type": "code",
   "execution_count": 65,
   "id": "eece93af-912b-479c-a596-438f9de54b32",
   "metadata": {},
   "outputs": [],
   "source": [
    "del d6['assignment']"
   ]
  },
  {
   "cell_type": "code",
   "execution_count": 66,
   "id": "8eb3c24d-00ae-4851-ba1b-a2395d56f249",
   "metadata": {},
   "outputs": [
    {
     "data": {
      "text/plain": [
       "{'lanch_data': {12, 14, 28},\n",
       " 'class_value': {'web dev': 8, 'data science': 12, 'java': 7},\n",
       " 'mentor': ['sudanshu', 'rohit', 'allanur']}"
      ]
     },
     "execution_count": 66,
     "metadata": {},
     "output_type": "execute_result"
    }
   ],
   "source": [
    "d6"
   ]
  },
  {
   "cell_type": "code",
   "execution_count": 67,
   "id": "1a109544-f713-4087-839f-4f1067bf35a0",
   "metadata": {},
   "outputs": [],
   "source": [
    "d6['assignment']= [1, 2, 3, 4, 5, 6]"
   ]
  },
  {
   "cell_type": "code",
   "execution_count": 68,
   "id": "f46b9f6c-c61e-4550-93cd-0537731cb7dc",
   "metadata": {},
   "outputs": [
    {
     "data": {
      "text/plain": [
       "{'lanch_data': {12, 14, 28},\n",
       " 'class_value': {'web dev': 8, 'data science': 12, 'java': 7},\n",
       " 'mentor': ['sudanshu', 'rohit', 'allanur'],\n",
       " 'assignment': [1, 2, 3, 4, 5, 6]}"
      ]
     },
     "execution_count": 68,
     "metadata": {},
     "output_type": "execute_result"
    }
   ],
   "source": [
    "d6"
   ]
  },
  {
   "cell_type": "code",
   "execution_count": 75,
   "id": "059a3dc7-1ce3-4991-b166-06a08a5e3f44",
   "metadata": {},
   "outputs": [
    {
     "data": {
      "text/plain": [
       "dict_keys(['lanch_data', 'class_value', 'mentor', 'assignment'])"
      ]
     },
     "execution_count": 75,
     "metadata": {},
     "output_type": "execute_result"
    }
   ],
   "source": [
    "d6.keys()"
   ]
  },
  {
   "cell_type": "code",
   "execution_count": 76,
   "id": "625b9153-ac7c-4236-a732-26a7960602f9",
   "metadata": {},
   "outputs": [
    {
     "data": {
      "text/plain": [
       "['lanch_data', 'class_value', 'mentor', 'assignment']"
      ]
     },
     "execution_count": 76,
     "metadata": {},
     "output_type": "execute_result"
    }
   ],
   "source": [
    "list(d6.keys())"
   ]
  },
  {
   "cell_type": "code",
   "execution_count": 78,
   "id": "89f9ab23-d3b9-42ef-8fc3-e6fa7270dcdb",
   "metadata": {},
   "outputs": [
    {
     "data": {
      "text/plain": [
       "dict_values([{28, 12, 14}, {'web dev': 8, 'data science': 12, 'java': 7}, ['sudanshu', 'rohit', 'allanur'], [1, 2, 3, 4, 5, 6]])"
      ]
     },
     "execution_count": 78,
     "metadata": {},
     "output_type": "execute_result"
    }
   ],
   "source": [
    "d6.values()"
   ]
  },
  {
   "cell_type": "code",
   "execution_count": 79,
   "id": "e96a491a-851c-493c-abc9-25f75dd54117",
   "metadata": {},
   "outputs": [
    {
     "data": {
      "text/plain": [
       "[{12, 14, 28},\n",
       " {'web dev': 8, 'data science': 12, 'java': 7},\n",
       " ['sudanshu', 'rohit', 'allanur'],\n",
       " [1, 2, 3, 4, 5, 6]]"
      ]
     },
     "execution_count": 79,
     "metadata": {},
     "output_type": "execute_result"
    }
   ],
   "source": [
    "list(d6.values())"
   ]
  },
  {
   "cell_type": "code",
   "execution_count": 83,
   "id": "7dee8762-9e99-4406-9530-1c0a4650a476",
   "metadata": {},
   "outputs": [
    {
     "data": {
      "text/plain": [
       "dict_items([('lanch_data', {28, 12, 14}), ('class_value', {'web dev': 8, 'data science': 12, 'java': 7}), ('mentor', ['sudanshu', 'rohit', 'allanur']), ('assignment', [1, 2, 3, 4, 5, 6])])"
      ]
     },
     "execution_count": 83,
     "metadata": {},
     "output_type": "execute_result"
    }
   ],
   "source": [
    "d6.items()"
   ]
  },
  {
   "cell_type": "code",
   "execution_count": 84,
   "id": "2dd5b9f7-0193-4668-9690-db593b7dbe68",
   "metadata": {},
   "outputs": [
    {
     "data": {
      "text/plain": [
       "[('lanch_data', {12, 14, 28}),\n",
       " ('class_value', {'web dev': 8, 'data science': 12, 'java': 7}),\n",
       " ('mentor', ['sudanshu', 'rohit', 'allanur']),\n",
       " ('assignment', [1, 2, 3, 4, 5, 6])]"
      ]
     },
     "execution_count": 84,
     "metadata": {},
     "output_type": "execute_result"
    }
   ],
   "source": [
    "list(d6.items())"
   ]
  },
  {
   "cell_type": "code",
   "execution_count": 86,
   "id": "756b079a-47b4-48d7-842a-1ee7da75039c",
   "metadata": {},
   "outputs": [
    {
     "data": {
      "text/plain": [
       "[1, 2, 3, 4, 5, 6]"
      ]
     },
     "execution_count": 86,
     "metadata": {},
     "output_type": "execute_result"
    }
   ],
   "source": [
    "d6.pop('assignment')"
   ]
  },
  {
   "cell_type": "code",
   "execution_count": 87,
   "id": "c3e29b88-89aa-45ac-9e01-c9bafb67acf4",
   "metadata": {},
   "outputs": [
    {
     "data": {
      "text/plain": [
       "{'lanch_data': {12, 14, 28},\n",
       " 'class_value': {'web dev': 8, 'data science': 12, 'java': 7},\n",
       " 'mentor': ['sudanshu', 'rohit', 'allanur']}"
      ]
     },
     "execution_count": 87,
     "metadata": {},
     "output_type": "execute_result"
    }
   ],
   "source": [
    "d6"
   ]
  },
  {
   "cell_type": "code",
   "execution_count": 88,
   "id": "3c136b28-102c-4e5d-a21d-b15e30b5cf81",
   "metadata": {},
   "outputs": [
    {
     "ename": "TypeError",
     "evalue": "pop expected at least 1 argument, got 0",
     "output_type": "error",
     "traceback": [
      "\u001b[0;31m---------------------------------------------------------------------------\u001b[0m",
      "\u001b[0;31mTypeError\u001b[0m                                 Traceback (most recent call last)",
      "Cell \u001b[0;32mIn[88], line 1\u001b[0m\n\u001b[0;32m----> 1\u001b[0m \u001b[43md6\u001b[49m\u001b[38;5;241;43m.\u001b[39;49m\u001b[43mpop\u001b[49m\u001b[43m(\u001b[49m\u001b[43m)\u001b[49m\n",
      "\u001b[0;31mTypeError\u001b[0m: pop expected at least 1 argument, got 0"
     ]
    }
   ],
   "source": [
    "d6.pop()"
   ]
  },
  {
   "cell_type": "code",
   "execution_count": 89,
   "id": "3ba60a9d-6e7d-4558-b4ba-2092a17648ad",
   "metadata": {},
   "outputs": [],
   "source": [
    "##condition point"
   ]
  },
  {
   "cell_type": "code",
   "execution_count": 103,
   "id": "861cbefb-3e08-4015-855c-ee9a0b17082a",
   "metadata": {},
   "outputs": [
    {
     "name": "stdin",
     "output_type": "stream",
     "text": [
      "enter your marks 78\n"
     ]
    },
    {
     "name": "stdout",
     "output_type": "stream",
     "text": [
      "you will be part of A1 batch\n"
     ]
    }
   ],
   "source": [
    "marks=int(input('enter your marks'))\n",
    "if marks>=80:\n",
    "    print('You will be part of A0 batch')\n",
    "elif marks>=60 and marks<80:\n",
    "    print('you will be part of A1 batch')\n",
    "elif marks>=40 and marks<60:\n",
    "    print('You will be part of the A2 batch')\n",
    "else:\n",
    "    print('you will part of the A3 batch')\n",
    "    \n",
    "\n",
    "   "
   ]
  },
  {
   "cell_type": "code",
   "execution_count": 107,
   "id": "9f7ee3f5-71da-4d57-816b-8a78725bf92f",
   "metadata": {},
   "outputs": [
    {
     "name": "stdin",
     "output_type": "stream",
     "text": [
      "enter price 1200\n"
     ]
    },
    {
     "name": "stdout",
     "output_type": "stream",
     "text": [
      "i will not purchase\n"
     ]
    }
   ],
   "source": [
    "price=int(input('enter price'))\n",
    "if price>1000:\n",
    "    print('i will not purchase')\n",
    "else:\n",
    "    print('i will purchase')\n"
   ]
  },
  {
   "cell_type": "code",
   "execution_count": 113,
   "id": "e6055e98-0c2e-4e57-965f-d55ae8244754",
   "metadata": {},
   "outputs": [
    {
     "name": "stdin",
     "output_type": "stream",
     "text": [
      "enter price 5001\n"
     ]
    },
    {
     "name": "stdout",
     "output_type": "stream",
     "text": [
      "i will not purchase\n",
      "this is to much\n",
      "ok done\n"
     ]
    }
   ],
   "source": [
    "price=int(input('enter price'))\n",
    "if price>5000:\n",
    "    print('i will not purchase')\n",
    "    if price>3000:\n",
    "        print('this is to much')\n",
    "        if price>1500:\n",
    "            print('ok done')\n",
    "else:\n",
    "    print('not interested')\n",
    "            \n"
   ]
  },
  {
   "cell_type": "code",
   "execution_count": 114,
   "id": "a2483e9e-7542-4771-807e-4b3eddd2ce46",
   "metadata": {},
   "outputs": [],
   "source": [
    "l=[1,2,3,3,2,4,5,6,8]"
   ]
  },
  {
   "cell_type": "code",
   "execution_count": 115,
   "id": "35f1a792-c74f-4f27-9222-210eab223206",
   "metadata": {},
   "outputs": [
    {
     "data": {
      "text/plain": [
       "2"
      ]
     },
     "execution_count": 115,
     "metadata": {},
     "output_type": "execute_result"
    }
   ],
   "source": [
    "l[0]+1"
   ]
  },
  {
   "cell_type": "code",
   "execution_count": 119,
   "id": "ec363215-8003-4c07-b2a4-b493db38866b",
   "metadata": {},
   "outputs": [],
   "source": [
    "l1=[]"
   ]
  },
  {
   "cell_type": "code",
   "execution_count": 120,
   "id": "aae6f2ac-4b94-49ac-9587-16b7313f3e97",
   "metadata": {},
   "outputs": [
    {
     "data": {
      "text/plain": [
       "list"
      ]
     },
     "execution_count": 120,
     "metadata": {},
     "output_type": "execute_result"
    }
   ],
   "source": [
    "type(l1)"
   ]
  },
  {
   "cell_type": "code",
   "execution_count": 122,
   "id": "7de9ff61-ec67-423e-b673-934632031e70",
   "metadata": {},
   "outputs": [],
   "source": [
    "l1.append(l[0]+1)"
   ]
  },
  {
   "cell_type": "code",
   "execution_count": 123,
   "id": "7f6c3474-b85a-48ba-9786-a1bec51a3e88",
   "metadata": {},
   "outputs": [
    {
     "data": {
      "text/plain": [
       "[2]"
      ]
     },
     "execution_count": 123,
     "metadata": {},
     "output_type": "execute_result"
    }
   ],
   "source": [
    "l1"
   ]
  },
  {
   "cell_type": "code",
   "execution_count": 124,
   "id": "3880db41-1ce5-4350-ad58-fb6183b4e294",
   "metadata": {},
   "outputs": [],
   "source": [
    "l=[1,2,3,3,2,4,5,6,8]"
   ]
  },
  {
   "cell_type": "code",
   "execution_count": 129,
   "id": "f6ccf047-166e-4a29-9062-d91218695225",
   "metadata": {},
   "outputs": [
    {
     "name": "stdout",
     "output_type": "stream",
     "text": [
      "2\n",
      "3\n",
      "4\n",
      "4\n",
      "3\n",
      "5\n",
      "6\n",
      "7\n",
      "9\n"
     ]
    }
   ],
   "source": [
    "for i in l:\n",
    "    print(i+1)"
   ]
  },
  {
   "cell_type": "code",
   "execution_count": 136,
   "id": "5379ba1b-6a92-4c92-8082-9d8f297d4932",
   "metadata": {},
   "outputs": [
    {
     "name": "stdout",
     "output_type": "stream",
     "text": [
      "2\n",
      "3\n",
      "4\n",
      "4\n",
      "3\n",
      "5\n",
      "6\n",
      "7\n",
      "9\n"
     ]
    },
    {
     "data": {
      "text/plain": [
       "[2, 3, 4, 4, 3, 5, 6, 7, 9]"
      ]
     },
     "execution_count": 136,
     "metadata": {},
     "output_type": "execute_result"
    }
   ],
   "source": [
    "l1=[]\n",
    "for i in l:\n",
    "    print(i+1)\n",
    "    l1.append(i+1)\n",
    "l1"
   ]
  },
  {
   "cell_type": "code",
   "execution_count": 137,
   "id": "08deffd4-6856-4565-91b2-f88c866553fd",
   "metadata": {},
   "outputs": [
    {
     "data": {
      "text/plain": [
       "[2, 3, 4, 4, 3, 5, 6, 7, 9]"
      ]
     },
     "execution_count": 137,
     "metadata": {},
     "output_type": "execute_result"
    }
   ],
   "source": [
    "l1"
   ]
  },
  {
   "cell_type": "code",
   "execution_count": 147,
   "id": "7782918a-130c-4984-b54d-dfeae0337823",
   "metadata": {},
   "outputs": [],
   "source": [
    "l=['akash','rahul','rutik','shantanu']"
   ]
  },
  {
   "cell_type": "code",
   "execution_count": 148,
   "id": "7d6ec51c-9c9f-4792-a2a0-8bac1c2f0f41",
   "metadata": {},
   "outputs": [
    {
     "name": "stdout",
     "output_type": "stream",
     "text": [
      "akash\n",
      "rahul\n",
      "rutik\n",
      "shantanu\n"
     ]
    },
    {
     "data": {
      "text/plain": [
       "['AKASH', 'RAHUL', 'RUTIK', 'SHANTANU']"
      ]
     },
     "execution_count": 148,
     "metadata": {},
     "output_type": "execute_result"
    }
   ],
   "source": [
    "l1=[]\n",
    "for i in l:\n",
    "    print(i)\n",
    "    l1.append(i.upper())\n",
    "l1"
   ]
  },
  {
   "cell_type": "code",
   "execution_count": 161,
   "id": "4c68f827-e14c-4230-b5da-8bebc79f0563",
   "metadata": {},
   "outputs": [],
   "source": [
    "l=[1,2,3,4,'tush','kumar',12.32,23.87,'abc']"
   ]
  },
  {
   "cell_type": "code",
   "execution_count": 162,
   "id": "b2d395ff-4c7a-4dd4-96c7-63d077dd5281",
   "metadata": {},
   "outputs": [],
   "source": [
    "l1_num=[]\n",
    "l2_str=[]\n",
    "for i in l:\n",
    "    if type(i)==int or type(i)==float:\n",
    "        l1_num.append(i)\n",
    "    else:\n",
    "        l2_str.append(i)"
   ]
  },
  {
   "cell_type": "code",
   "execution_count": 163,
   "id": "b0c724f7-8225-449f-a5cf-a117d8049497",
   "metadata": {},
   "outputs": [
    {
     "data": {
      "text/plain": [
       "[1, 2, 3, 4, 12.32, 23.87]"
      ]
     },
     "execution_count": 163,
     "metadata": {},
     "output_type": "execute_result"
    }
   ],
   "source": [
    "l1_num"
   ]
  },
  {
   "cell_type": "code",
   "execution_count": 164,
   "id": "a485c962-e1b3-421f-bdcf-08514dd9def7",
   "metadata": {},
   "outputs": [
    {
     "data": {
      "text/plain": [
       "['tush', 'kumar', 'abc']"
      ]
     },
     "execution_count": 164,
     "metadata": {},
     "output_type": "execute_result"
    }
   ],
   "source": [
    "l2_str"
   ]
  },
  {
   "cell_type": "code",
   "execution_count": null,
   "id": "31155468-7fd0-49f0-824c-1b8d873da6fd",
   "metadata": {},
   "outputs": [],
   "source": []
  }
 ],
 "metadata": {
  "kernelspec": {
   "display_name": "Python 3 (ipykernel)",
   "language": "python",
   "name": "python3"
  },
  "language_info": {
   "codemirror_mode": {
    "name": "ipython",
    "version": 3
   },
   "file_extension": ".py",
   "mimetype": "text/x-python",
   "name": "python",
   "nbconvert_exporter": "python",
   "pygments_lexer": "ipython3",
   "version": "3.10.8"
  }
 },
 "nbformat": 4,
 "nbformat_minor": 5
}
